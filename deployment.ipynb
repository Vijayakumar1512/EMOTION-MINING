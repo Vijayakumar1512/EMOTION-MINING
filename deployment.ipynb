{
 "cells": [
  {
   "cell_type": "code",
   "execution_count": 1,
   "metadata": {},
   "outputs": [],
   "source": [
    "# This is a simplified example. In reality, you would likely use a web framework like Flask or FastAPI.\n",
    "import joblib\n",
    "import pandas as pd\n",
    "# Import Libraries\n",
    "import re\n",
    "from nltk.corpus import stopwords\n",
    "from nltk.tokenize import word_tokenize\n",
    "from nltk.stem import WordNetLemmatizer\n",
    "import nltk"
   ]
  },
  {
   "cell_type": "code",
   "execution_count": 2,
   "metadata": {},
   "outputs": [],
   "source": [
    "# Initialize the lemmatizer\n",
    "lemmatizer = WordNetLemmatizer()\n",
    "\n",
    "# Define stopwords\n",
    "stop_words = set(stopwords.words('english'))"
   ]
  },
  {
   "cell_type": "code",
   "execution_count": 3,
   "metadata": {},
   "outputs": [],
   "source": [
    "# Load the trained model and vectorizer\n",
    "svm_model = joblib.load('models/svm_model.pkl')\n",
    "vectorizer = joblib.load('data/vectorizer.pkl')"
   ]
  },
  {
   "cell_type": "code",
   "execution_count": 4,
   "metadata": {},
   "outputs": [],
   "source": [
    "# Define the preprocessing function\n",
    "def preprocess_text(text):\n",
    "    # Lowercase\n",
    "    text = text.lower()\n",
    "    # Remove special characters\n",
    "    text = re.sub(r'\\W', ' ', text)\n",
    "    # Tokenize\n",
    "    tokens = word_tokenize(text)\n",
    "    # Remove stopwords and lemmatize\n",
    "    tokens = [lemmatizer.lemmatize(word) for word in tokens if word not in stop_words]\n",
    "    return ' '.join(tokens)"
   ]
  },
  {
   "cell_type": "code",
   "execution_count": 5,
   "metadata": {},
   "outputs": [],
   "source": [
    "# Function to predict sentiment\n",
    "def predict_sentiment(review):\n",
    "    processed_review = preprocess_text(review)\n",
    "    features = vectorizer.transform([processed_review])\n",
    "    prediction = svm_model.predict(features)\n",
    "    return prediction[0]"
   ]
  },
  {
   "cell_type": "code",
   "execution_count": 12,
   "metadata": {},
   "outputs": [
    {
     "name": "stdout",
     "output_type": "stream",
     "text": [
      "Review: I was so excited to try this cocoa powder, being that it is dutch-processed (smooth, non-acidic), organic and fair trade. I figured it would have a deep dark rich chocolate flavor. I make my own chocolate at home and to be quite honest, a generic grocery store cocoa powder or Hershey's renders a much more fulfilling chocolate flavor.<br />Why does this cocoa powder feel so weakly flavored?<br />3 stars because it wasn't bland, and has a wonderful impression being a sustainable product. Won't buy again.\n",
      "Predicted Sentiment: 3\n"
     ]
    }
   ],
   "source": [
    "# Test the deployment function\n",
    "test_review = \"I was so excited to try this cocoa powder, being that it is dutch-processed (smooth, non-acidic), organic and fair trade. I figured it would have a deep dark rich chocolate flavor. I make my own chocolate at home and to be quite honest, a generic grocery store cocoa powder or Hershey's renders a much more fulfilling chocolate flavor.<br />Why does this cocoa powder feel so weakly flavored?<br />3 stars because it wasn't bland, and has a wonderful impression being a sustainable product. Won't buy again.\"\n",
    "print(f\"Review: {test_review}\")\n",
    "print(f\"Predicted Sentiment: {predict_sentiment(test_review)}\")"
   ]
  }
 ],
 "metadata": {
  "kernelspec": {
   "display_name": "Python 3",
   "language": "python",
   "name": "python3"
  },
  "language_info": {
   "codemirror_mode": {
    "name": "ipython",
    "version": 3
   },
   "file_extension": ".py",
   "mimetype": "text/x-python",
   "name": "python",
   "nbconvert_exporter": "python",
   "pygments_lexer": "ipython3",
   "version": "3.12.3"
  }
 },
 "nbformat": 4,
 "nbformat_minor": 2
}
